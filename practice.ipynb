{
 "cells": [
  {
   "cell_type": "code",
   "execution_count": 1,
   "metadata": {},
   "outputs": [
    {
     "name": "stdout",
     "output_type": "stream",
     "text": [
      "hello World\n"
     ]
    }
   ],
   "source": [
    "print(\"hello World\")"
   ]
  },
  {
   "cell_type": "code",
   "execution_count": 7,
   "metadata": {},
   "outputs": [
    {
     "name": "stdout",
     "output_type": "stream",
     "text": [
      "[[0, 0, 0], [0, 0, 0]]\n"
     ]
    }
   ],
   "source": [
    "mat = [[0 for x in range(3)] for y in range(2)]\n",
    "print(mat)"
   ]
  },
  {
   "cell_type": "code",
   "execution_count": 8,
   "metadata": {},
   "outputs": [],
   "source": [
    "vowels = \"aeiou\"\n",
    "consonants = \"bcdfghjklmnpqrstvwxyz\""
   ]
  },
  {
   "cell_type": "code",
   "execution_count": 9,
   "metadata": {},
   "outputs": [],
   "source": [
    "vowel_to_consonant = {v: consonants[i % len(consonants)] for i, v in enumerate(vowels)}\n",
    "consonant_to_vowel = {c: vowels[i % len(vowels)] for i, c in enumerate(consonants)}"
   ]
  },
  {
   "cell_type": "code",
   "execution_count": 10,
   "metadata": {},
   "outputs": [
    {
     "name": "stdout",
     "output_type": "stream",
     "text": [
      "{'a': 'b', 'e': 'c', 'i': 'd', 'o': 'f', 'u': 'g'}\n",
      "{'b': 'a', 'c': 'e', 'd': 'i', 'f': 'o', 'g': 'u', 'h': 'a', 'j': 'e', 'k': 'i', 'l': 'o', 'm': 'u', 'n': 'a', 'p': 'e', 'q': 'i', 'r': 'o', 's': 'u', 't': 'a', 'v': 'e', 'w': 'i', 'x': 'o', 'y': 'u', 'z': 'a'}\n"
     ]
    }
   ],
   "source": [
    "print(vowel_to_consonant)\n",
    "print(consonant_to_vowel)"
   ]
  },
  {
   "cell_type": "code",
   "execution_count": 35,
   "metadata": {},
   "outputs": [],
   "source": [
    "def encrypt_text(t, test_cases):\n",
    "    vowels = \"aeiou\"\n",
    "    consonants = \"bcdfghjklmnpqrstvwxyz\"\n",
    "    max_len = 50000  # Maximum length of a string in test cases\n",
    "\n",
    "    # Precompute transformations for vowels and consonants\n",
    "    vowel_to_consonant = {}\n",
    "    consonant_to_vowel = {}\n",
    "\n",
    "    for i, v in enumerate(vowels):\n",
    "        vowel_to_consonant[v] = [(i + j * len(vowels)) % len(consonants) for j in range(max_len)]\n",
    "    \n",
    "    for i, c in enumerate(consonants):\n",
    "        consonant_to_vowel[c] = [(i + j * len(consonants)) % len(vowels) for j in range(max_len)]\n",
    "\n",
    "    results = []\n",
    "\n",
    "    for case in test_cases:\n",
    "        freq = {}\n",
    "        encrypted = []\n",
    "\n",
    "        for char in case:\n",
    "            freq[char] = freq.get(char, 0) + 1\n",
    "            k = freq[char] - 1  # 0-based index for precomputed mappings\n",
    "\n",
    "            if char in vowels:\n",
    "                target_index = vowel_to_consonant[char][k]\n",
    "                encrypted.append(consonants[target_index])\n",
    "            else:\n",
    "                target_index = consonant_to_vowel[char][k]\n",
    "                encrypted.append(vowels[target_index])\n",
    "\n",
    "        results.append(\"\".join(encrypted))\n",
    "\n",
    "    return results"
   ]
  },
  {
   "cell_type": "code",
   "execution_count": 36,
   "metadata": {},
   "outputs": [],
   "source": [
    "t = 2\n",
    "test_cases = [\"baax\", \"aaa\"]"
   ]
  },
  {
   "cell_type": "code",
   "execution_count": 37,
   "metadata": {},
   "outputs": [],
   "source": [
    "output = encrypt_text(t, test_cases)"
   ]
  },
  {
   "cell_type": "code",
   "execution_count": 38,
   "metadata": {},
   "outputs": [
    {
     "name": "stdout",
     "output_type": "stream",
     "text": [
      "['abho', 'bhn']\n"
     ]
    }
   ],
   "source": [
    "print(output)"
   ]
  },
  {
   "cell_type": "code",
   "execution_count": 34,
   "metadata": {},
   "outputs": [
    {
     "ename": "KeyboardInterrupt",
     "evalue": "",
     "output_type": "error",
     "traceback": [
      "\u001b[0;31m---------------------------------------------------------------------------\u001b[0m",
      "\u001b[0;31mKeyboardInterrupt\u001b[0m                         Traceback (most recent call last)",
      "Cell \u001b[0;32mIn[34], line 3\u001b[0m\n\u001b[1;32m      1\u001b[0m \u001b[38;5;28;01mimport\u001b[39;00m \u001b[38;5;21;01msys\u001b[39;00m\n\u001b[1;32m      2\u001b[0m \u001b[38;5;28minput\u001b[39m \u001b[38;5;241m=\u001b[39m sys\u001b[38;5;241m.\u001b[39mstdin\u001b[38;5;241m.\u001b[39mread\n\u001b[0;32m----> 3\u001b[0m data \u001b[38;5;241m=\u001b[39m \u001b[38;5;28;43minput\u001b[39;49m\u001b[43m(\u001b[49m\u001b[43m)\u001b[49m\u001b[38;5;241m.\u001b[39msplitlines()\n\u001b[1;32m      5\u001b[0m t \u001b[38;5;241m=\u001b[39m \u001b[38;5;28mint\u001b[39m(data[\u001b[38;5;241m0\u001b[39m])  \u001b[38;5;66;03m# Number of test cases\u001b[39;00m\n\u001b[1;32m      6\u001b[0m test_cases \u001b[38;5;241m=\u001b[39m data[\u001b[38;5;241m1\u001b[39m:]\n",
      "\u001b[0;31mKeyboardInterrupt\u001b[0m: "
     ]
    }
   ],
   "source": [
    "import sys\n",
    "input = sys.stdin.read\n",
    "data = input().splitlines()\n",
    "\n",
    "t = int(data[0])  # Number of test cases\n",
    "test_cases = data[1:]\n",
    "\n",
    "vowels = \"aeiou\"\n",
    "consonants = \"bcdfghjklmnpqrstvwxyz\"\n",
    "results = []\n",
    "\n",
    "for case in test_cases:\n",
    "    freq = {}\n",
    "    encrypted = []\n",
    "\n",
    "    for char in case:\n",
    "        # Update the frequency count for this character\n",
    "        freq[char] = freq.get(char, 0) + 1\n",
    "        k = freq[char]  # k-th occurrence of the character\n",
    "\n",
    "        if char in vowels:\n",
    "            # If the character is a vowel\n",
    "            vowel_index = (vowels.index(char) + (k - 1) * len(vowels))  # k-th occurrence index in infinite vowels\n",
    "            target_index = vowel_index % len(consonants)  # Map to consonants\n",
    "            encrypted.append(consonants[target_index])\n",
    "        else:\n",
    "            # If the character is a consonant\n",
    "            consonant_index = (consonants.index(char) + (k - 1) * len(consonants))  # k-th occurrence index in infinite consonants\n",
    "            target_index = consonant_index % len(vowels)  # Map to vowels\n",
    "            encrypted.append(vowels[target_index])\n",
    "\n",
    "    results.append(\"\".join(encrypted))\n",
    "\n",
    "print(\"\\n\".join(results))\n",
    "\n",
    "\n"
   ]
  },
  {
   "cell_type": "code",
   "execution_count": null,
   "metadata": {},
   "outputs": [],
   "source": []
  },
  {
   "cell_type": "code",
   "execution_count": null,
   "metadata": {},
   "outputs": [],
   "source": []
  }
 ],
 "metadata": {
  "kernelspec": {
   "display_name": "env_pytorch",
   "language": "python",
   "name": "python3"
  },
  "language_info": {
   "codemirror_mode": {
    "name": "ipython",
    "version": 3
   },
   "file_extension": ".py",
   "mimetype": "text/x-python",
   "name": "python",
   "nbconvert_exporter": "python",
   "pygments_lexer": "ipython3",
   "version": "3.9.18"
  }
 },
 "nbformat": 4,
 "nbformat_minor": 2
}
